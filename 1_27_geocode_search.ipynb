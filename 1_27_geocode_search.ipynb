
# coding: utf-8

# In[4]:

import twitter


# In[5]:

import geopy


# In[6]:

consumer_key = "7LQZ9AflFNt3xYbAgaP7Pj7J9"
consumer_key_secret = "SlzzDzp6XUjXbn38CDkF2eh5uJ4H98u5S38IjLzYqz3zkysaYM"
consumer_secret = "SlzzDzp6XUjXbn38CDkF2eh5uJ4H98u5S38IjLzYqz3zkysaYM"
access_token = "3043501246-cAtrlTygdncQv3sCRfmnRLxqgNsy8seOjXtrMu4"
access_token_secret = "lJygQn4gcqUcbfql2D6NMAVFMStPLiLwQQBiWTKTsd4BA"


# In[7]:

authorization = twitter.OAuth(access_token, access_token_secret, consumer_key, consumer_secret)


# In[8]:

import os


# In[9]:

output_filename = os.path.join(os.path.expanduser("~"), "Desktop", "TWITTER API", "data", "python_tweets_2.json")


# In[10]:

import json


# In[11]:

t = twitter.Twitter(auth=authorization)


# In[15]:

with open(output_filename, 'a') as output_file:
    search_results = t.search.tweets(q="@klausebergeron", geocode= "40.5, (-73.4), 12mi", count=5)['statuses']
    for tweet in search_results:
        if 'text' in tweet:
            output_filename.write(json.dumps(tweet['text']))
            output_filename.write("\n\n")


# In[35]:




# In[34]:

from twitter import *


# In[2]:

help(twitter)


# In[ ]:
